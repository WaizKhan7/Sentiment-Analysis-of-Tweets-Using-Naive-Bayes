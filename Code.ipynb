{
 "cells": [
  {
   "cell_type": "code",
   "execution_count": 1,
   "metadata": {
    "colab": {
     "base_uri": "https://localhost:8080/",
     "height": 71
    },
    "colab_type": "code",
    "id": "Ephe_igF8u9Z",
    "outputId": "3026d1ab-85cb-4776-d0cd-bf7b8cd66dab"
   },
   "outputs": [],
   "source": [
    "import os\n",
    "import re\n",
    "import math\n",
    "import numpy as np\n",
    "import numpy.ma as ma\n",
    "import pandas as pd\n",
    "import seaborn as sn\n",
    "import random \n",
    "import csv\n",
    "from matplotlib import pyplot as plt\n",
    "%matplotlib inline"
   ]
  },
  {
   "cell_type": "code",
   "execution_count": 2,
   "metadata": {
    "colab": {},
    "colab_type": "code",
    "id": "E8O1CU4_-WlD"
   },
   "outputs": [],
   "source": [
    "def splitData ():\n",
    "\n",
    "    Data=pd.read_csv('Tweets.csv', sep=',',header=None)\n",
    "    #replace class name with numbers (easier to sort)\n",
    "    Data = Data.replace('neutral',0)\n",
    "    Data = Data.replace('positive',1)\n",
    "    Data = Data.replace('negative',-1)\n",
    "    #sorting Data\n",
    "    Data = Data.loc[1:,:]\n",
    "    Data = Data.sort_values(0)\n",
    "    print(Data.shape)\n",
    "    \n",
    "    #seperating all the classes from data\n",
    "    neg=0\n",
    "    neut=0\n",
    "    pos=0\n",
    "    \n",
    "    for i in range(Data.shape[0]):\n",
    "\n",
    "        if(Data.iloc[i,0] == -1):\n",
    "            neg+=1\n",
    "            neut+=1\n",
    "            pos+=1\n",
    "\n",
    "        if(Data.iloc[i,0] == 0):\n",
    "            neut+=1\n",
    "            pos+=1\n",
    "\n",
    "        if(Data.iloc[i,0] == 1):\n",
    "            pos+=1\n",
    "            \n",
    "    negData = Data.iloc[0:neg,:]\n",
    "    neutData = Data.iloc[neg:neut,:]\n",
    "    posData = Data.iloc[neut:pos,:]\n",
    "\n",
    "    #spliting each class in 80% and 20% for training and testing\n",
    "    negindex = round(negData.shape[0]*80/100)\n",
    "    neutindex = round(neutData.shape[0]*80/100)\n",
    "    posindex = round(posData.shape[0]*80/100)\n",
    "    \n",
    "    \n",
    "    TrainNegData = negData.iloc[0:negindex,:]\n",
    "    TrainNeutData = neutData.iloc[0:neutindex,:]\n",
    "    TrainPosData = posData.iloc[0:posindex,:]\n",
    "    \n",
    "    TrainData = pd.concat([TrainNegData,TrainNeutData],axis=0)\n",
    "    TrainData = pd.concat([TrainData,TrainPosData],axis=0)\n",
    "\n",
    "    \n",
    "    TestNegData = negData.iloc[negindex:,:]\n",
    "    TestNeutData = neutData.iloc[neutindex:,:]\n",
    "    TestPosData = posData.iloc[posindex:,:]\n",
    "    \n",
    "    TestData = pd.concat([TestNegData,TestNeutData],axis=0)\n",
    "    TestData = pd.concat([TestData,TestPosData],axis=0)\n",
    "\n",
    "\n",
    "    return TrainData, TestData"
   ]
  },
  {
   "cell_type": "code",
   "execution_count": 3,
   "metadata": {
    "colab": {
     "base_uri": "https://localhost:8080/",
     "height": 153
    },
    "colab_type": "code",
    "id": "vJOEsbAE-fte",
    "outputId": "61cef98c-5b4c-4bf7-b8a1-59610790d4bf"
   },
   "outputs": [
    {
     "name": "stdout",
     "output_type": "stream",
     "text": [
      "(11711, 3)\n",
      "(2929, 3)\n",
      "   Unnamed: 0  0                                                  1\n",
      "0        3781 -1  @united why do you hire POS pilots? Thanks for...\n",
      "1        4401 -1  @VirginAmerica why are your first fares in May...\n",
      "2        3779 -1  @USAirways the disappointment was not the bag ...\n",
      "3        3778 -1  @united - with airport self checkin your only ...\n",
      "4        3777 -1  @united the wifi in the ewr lounge reminds me ...\n"
     ]
    }
   ],
   "source": [
    "#trainData, testData = splitData()\n",
    "#trainData.to_csv('trainData.csv', sep=',')\n",
    "#testData.to_csv('testData.csv', sep=',')\n",
    "\n",
    "trainData=pd.read_csv('trainData.csv', sep=',')\n",
    "testData=pd.read_csv('testData.csv', sep=',')\n",
    "\n",
    "print(trainData.shape)\n",
    "print(testData.shape)\n",
    "print(testData.head())\n",
    "\n",
    "\n"
   ]
  },
  {
   "cell_type": "code",
   "execution_count": 4,
   "metadata": {
    "colab": {},
    "colab_type": "code",
    "id": "Y6f9NdzE-gd-"
   },
   "outputs": [],
   "source": [
    "def cleanData (Data):\n",
    "\n",
    "    b = \"!@&*~`<>#$',.?-_/\\*%=+|;:(){}1234567890\"\n",
    "    stopwords = [\"i\", \"me\", \"my\", \"myself\", \"we\", \"our\", \"ours\", \"ourselves\", \"you\", \"your\", \"yours\", \"yourself\", \"yourselves\", \"he\", \"him\", \"his\", \"himself\", \n",
    "         \"she\", \"her\", \"hers\", \"herself\", \"it\", \"its\", \"itself\", \"they\", \"them\", \"their\", \"theirs\", \"themselves\", \"what\", \"which\", \"who\", \"whom\", \"this\",\n",
    "         \"that\", \"these\", \"those\", \"am\", \"is\", \"are\", \"was\", \"were\", \"be\", \"been\", \"being\", \"have\",\"has\", \"had\", \"having\", \"do\", \"does\", \"did\", \"doing\",\n",
    "         \"a\", \"an\", \"the\", \"and\", \"but\", \"if\", \"or\", \"because\", \"as\", \"until\", \"while\", \"of\", \"at\", \"by\", \"for\", \"with\", \"about\", \"against\", \"between\",\n",
    "         \"into\", \"through\", \"during\", \"before\", \"after\", \"above\", \"below\", \"to\", \"from\", \"up\", \"down\", \"in\", \"out\",\"on\", \"off\", \"over\", \"under\", \"again\",\n",
    "         \"further\", \"then\", \"once\", \"here\", \"there\", \"when\", \"where\", \"why\", \"how\", \"all\", \"any\", \"both\", \"each\", \"few\", \"more\", \"most\",\"other\", \"some\",\n",
    "         \"such\", \"no\", \"nor\", \"not\", \"only\", \"own\", \"same\", \"so\", \"than\", \"too\", \"very\", \"s\", \"t\", \"can\", \"will\", \"just\", \"don\", \"should\", \"now\",\n",
    "         \"southwestair\", \"usairways\", \"jetblue\", \"united\", \"hold\", \"flight\", \"customer\", \"get\", \"service\", \"us\", \"americanair\", \"hours\", \"hour\", \"time\", \"im\",\n",
    "         \"thanks\"]\n",
    "\n",
    "    newData = Data \n",
    "    #clean all the tweets one by one and save them in newData\n",
    "    for i in range(Data.shape[0]):\n",
    "        \n",
    "        row = Data.iloc[i,1]\n",
    "        #print(row)\n",
    "        #print(i)\n",
    "        row = row.lower()\n",
    "        #print('*************')\n",
    "\n",
    "        for char in b:\n",
    "            row = row.replace(char,\"\")\n",
    "        row = row.replace('\"',\"\")\n",
    "        #help taken from internet for removal of stop words\n",
    "        tweet = row.split()\n",
    "        resultwords  = [word for word in tweet if word.lower() not in stopwords]\n",
    "        row = ' '.join(resultwords)\n",
    "\n",
    "        #print(row)\n",
    "        #print('********************************************************************************************************************')\n",
    "        newData.iloc[i,1] = row\n",
    "\n",
    "    print('cleaned Data =',newData.shape[0])\n",
    "\n",
    "    return newData"
   ]
  },
  {
   "cell_type": "code",
   "execution_count": 5,
   "metadata": {
    "colab": {},
    "colab_type": "code",
    "id": "-cCxg1oj-ioH"
   },
   "outputs": [],
   "source": [
    "def getvocabulorymatrix (Data):\n",
    "\n",
    "    singlestring = ''\n",
    "    \n",
    "    print(Data.shape[0])\n",
    "    \n",
    "    for i in range(Data.shape[0]):\n",
    "\n",
    "        singlestring = singlestring + ' '+ Data.iloc[i,1]\n",
    "\n",
    "    str_list = singlestring.split()\n",
    "    unique_words = set(str_list) \n",
    "\n",
    "    print('No of total words in data =',len(str_list))\n",
    "    print('No of unique words in data =',len(unique_words))\n",
    "\n",
    "    #creates vocabulory matrix\n",
    "    vocabulory = pd.DataFrame(list(unique_words))\n",
    "    print(vocabulory.head(10))\n",
    "    \n",
    "    #add new column for each tweet\n",
    "    for t_num in range(Data.shape[0]+1):\n",
    "        if(t_num >0):\n",
    "            vocabulory[t_num] = 0\n",
    "\n",
    "    print(vocabulory.shape)\n",
    "    \n",
    "    return vocabulory"
   ]
  },
  {
   "cell_type": "code",
   "execution_count": 6,
   "metadata": {
    "colab": {},
    "colab_type": "code",
    "id": "Knh-bK4P-qP0"
   },
   "outputs": [],
   "source": [
    "def VocabFreqMatrix (Data):\n",
    "\n",
    "    newData = cleanData(Data)\n",
    "\n",
    "    vocabulory = getvocabulorymatrix(newData)\n",
    "\n",
    "    #save vocabulory for later use in csv file\n",
    "    #vocabulory.to_csv('data.csv', sep='\\t')\n",
    "\n",
    "    vocab = vocabulory.loc[:,0]\n",
    "    #converts pandas vocabulory to numpy array\n",
    "    vocab = vocab.to_numpy()\n",
    "\n",
    "    for t_num in range(newData.shape[0]):\n",
    "\n",
    "        tweet = newData.iloc[t_num,1]\n",
    "        #split tweet into words\n",
    "        str_list = tweet.split()\n",
    "        tweet_words = set(str_list)\n",
    "\n",
    "\n",
    "        #put count of every word in each tweet at its column added earlier\n",
    "        for word in tweet_words : \n",
    "\n",
    "            #find that word in vocabulory to add its count\n",
    "            arr_index = np.where(vocab == word)\n",
    "            ind = arr_index[0][0]\n",
    "            #returns count of word in tweet\n",
    "            vocabulory.iloc[ind,t_num+1] = str_list.count(word)\n",
    "\n",
    "    print(vocabulory.head())\n",
    "    \n",
    "    return vocabulory"
   ]
  },
  {
   "cell_type": "code",
   "execution_count": 7,
   "metadata": {
    "colab": {
     "base_uri": "https://localhost:8080/",
     "height": 153
    },
    "colab_type": "code",
    "id": "8EnPgnW4-vV9",
    "outputId": "4770e17d-04e8-451f-ddb0-9f6ef0511f99"
   },
   "outputs": [
    {
     "name": "stdout",
     "output_type": "stream",
     "text": [
      "   Unnamed: 0                  0  1  2  3  4  5  6  7  8  ...  11702  11703  \\\n",
      "0           0          inbaggage  0  0  0  0  0  0  0  0  ...      0      0   \n",
      "1           1  httptcoxijifymvqp  0  0  0  0  0  0  0  0  ...      0      0   \n",
      "2           2              sucks  0  0  0  0  0  0  0  0  ...      0      0   \n",
      "3           3              usuck  0  0  0  0  0  0  0  0  ...      0      0   \n",
      "4           4         personable  0  0  0  0  0  0  0  0  ...      0      0   \n",
      "\n",
      "   11704  11705  11706  11707  11708  11709  11710  11711  \n",
      "0      0      0      0      0      0      0      0      0  \n",
      "1      0      0      0      0      0      0      0      0  \n",
      "2      0      0      0      0      0      0      0      0  \n",
      "3      0      0      0      0      0      0      0      0  \n",
      "4      0      0      0      0      0      0      0      0  \n",
      "\n",
      "[5 rows x 11713 columns]\n"
     ]
    }
   ],
   "source": [
    "#TrainVocabFreqMatrix = VocabFreqMatrix(trainData.iloc[:,1:])\n",
    "#TrainVocabFreqMatrix.to_csv('TrainVocabFreqMatrix.csv', sep=',')\n",
    "\n",
    "TrainVocabFreqMatrix = pd.read_csv('TrainVocabFreqMatrix.csv', sep=',')\n",
    "print(TrainVocabFreqMatrix.head())"
   ]
  },
  {
   "cell_type": "code",
   "execution_count": 8,
   "metadata": {
    "colab": {
     "base_uri": "https://localhost:8080/",
     "height": 527
    },
    "colab_type": "code",
    "id": "Ga2d4R1w-3Ds",
    "outputId": "058190e7-6aa6-4cf2-f7ab-ea7fe1d4afe4"
   },
   "outputs": [
    {
     "name": "stdout",
     "output_type": "stream",
     "text": [
      "   1  2  3  4  5  6  7  8  9  10  ...  11702  11703  11704  11705  11706  \\\n",
      "0  0  0  0  0  0  0  0  0  0   0  ...      0      0      0      0      0   \n",
      "1  0  0  0  0  0  0  0  0  0   0  ...      0      0      0      0      0   \n",
      "2  0  0  0  0  0  0  0  0  0   0  ...      0      0      0      0      0   \n",
      "3  0  0  0  0  0  0  0  0  0   0  ...      0      0      0      0      0   \n",
      "4  0  0  0  0  0  0  0  0  0   0  ...      0      0      0      0      0   \n",
      "\n",
      "   11707  11708  11709  11710  11711  \n",
      "0      0      0      0      0      0  \n",
      "1      0      0      0      0      0  \n",
      "2      0      0      0      0      0  \n",
      "3      0      0      0      0      0  \n",
      "4      0      0      0      0      0  \n",
      "\n",
      "[5 rows x 11711 columns]\n",
      "   0      1      2      3      4      5      6      7      8      9      ...  \\\n",
      "1      0      0      0      0      0      0      0      0      0      0  ...   \n",
      "2      0      0      0      0      0      0      0      0      0      0  ...   \n",
      "3      0      0      0      0      0      0      0      0      0      0  ...   \n",
      "4      0      0      0      0      0      0      0      0      0      0  ...   \n",
      "5      0      0      0      0      0      0      0      0      0      0  ...   \n",
      "\n",
      "   13001  13002  13003  13004  13005  13006  13007  13008  13009  13010  \n",
      "1      0      0      0      0      0      0      0      0      0      0  \n",
      "2      0      0      0      0      0      0      0      0      0      0  \n",
      "3      0      0      0      0      0      0      0      0      0      0  \n",
      "4      0      0      0      0      0      0      0      0      0      0  \n",
      "5      0      0      0      0      0      0      0      0      0      0  \n",
      "\n",
      "[5 rows x 13011 columns]\n",
      "(11711, 13011)\n",
      "(11711,)\n",
      "0   -1\n",
      "1   -1\n",
      "2   -1\n",
      "3   -1\n",
      "4   -1\n",
      "Name: 0, dtype: int64\n",
      "0            inbaggage\n",
      "1    httptcoxijifymvqp\n",
      "2                sucks\n",
      "3                usuck\n",
      "4           personable\n",
      "Name: 0, dtype: object\n"
     ]
    }
   ],
   "source": [
    "X = TrainVocabFreqMatrix.iloc[:,2:]\n",
    "print(X.head())\n",
    "Vocab = TrainVocabFreqMatrix.iloc[:,1]\n",
    "Y = trainData.iloc[0:,1]\n",
    "X = X.T\n",
    "print(X.head())\n",
    "print(X.shape)\n",
    "print(Y.shape)\n",
    "print(Y.head())\n",
    "print(Vocab.head())"
   ]
  },
  {
   "cell_type": "code",
   "execution_count": 9,
   "metadata": {
    "colab": {},
    "colab_type": "code",
    "id": "nB9Vn6rY-78K"
   },
   "outputs": [],
   "source": [
    "X = X.to_numpy()\n",
    "Y = Y.to_numpy()"
   ]
  },
  {
   "cell_type": "code",
   "execution_count": 10,
   "metadata": {
    "colab": {},
    "colab_type": "code",
    "id": "4OZBNy6E_PC7"
   },
   "outputs": [],
   "source": [
    "def priors(Y):\n",
    "\n",
    "    neg=0\n",
    "    neut=0\n",
    "    pos=0\n",
    "\n",
    "    for i in range(Y.shape[0]):\n",
    "\n",
    "        if(Y[i] == -1):\n",
    "            neg+=1\n",
    "            neut+=1\n",
    "            pos+=1\n",
    "\n",
    "        if(Y[i] == 0):\n",
    "            neut+=1\n",
    "            pos+=1\n",
    "\n",
    "        if(Y[i] == 1):\n",
    "            pos+=1\n",
    "\n",
    "    negTweets = neg\n",
    "    nuetTweets = neut-neg\n",
    "    posTweets =  pos-neut\n",
    "\n",
    "    print('negative',negTweets,'neutral',nuetTweets,'positive',posTweets)\n",
    "\n",
    "\n",
    "    priorNeg = negTweets/Y.shape[0]\n",
    "    priorNeut = nuetTweets/Y.shape[0]\n",
    "    priorPos = posTweets/Y.shape[0]\n",
    "\n",
    "    priorNeg = np.log10(priorNeg)\n",
    "    priorNeut = np.log10(priorNeut)\n",
    "    priorPos = np.log10(priorPos)\n",
    "\n",
    "    print('P(neg)',priorNeg,'P(neut)', priorNeut,'P(pos)',priorPos)\n",
    "\n",
    "    return priorNeg,priorNeut,priorPos,neg,neut,pos"
   ]
  },
  {
   "cell_type": "code",
   "execution_count": 11,
   "metadata": {
    "colab": {
     "base_uri": "https://localhost:8080/",
     "height": 51
    },
    "colab_type": "code",
    "id": "VK7Txfji5hiA",
    "outputId": "3f79c124-02d0-4a0b-ce11-1b491c2f2bcb"
   },
   "outputs": [
    {
     "name": "stdout",
     "output_type": "stream",
     "text": [
      "negative 7342 neutral 2479 positive 1890\n",
      "P(neg) -0.20277960080868335 P(neut) -0.6743174542088299 P(pos) -0.7921321768034072\n"
     ]
    }
   ],
   "source": [
    "priorNeg,priorNeut,priorPos,neg,neut,pos = priors(Y)"
   ]
  },
  {
   "cell_type": "code",
   "execution_count": 12,
   "metadata": {
    "colab": {
     "base_uri": "https://localhost:8080/",
     "height": 85
    },
    "colab_type": "code",
    "id": "Y6iXQQMZBmlj",
    "outputId": "b0347611-023c-4426-f229-f0838233f2a3"
   },
   "outputs": [
    {
     "name": "stdout",
     "output_type": "stream",
     "text": [
      "(11711, 13011)\n",
      "66681\n",
      "17227\n",
      "12980\n"
     ]
    }
   ],
   "source": [
    "#freq of every word in vocabulory in every class\n",
    "print(X.shape)\n",
    "freq_neg = np.sum(X[0:neg,:],axis=0)\n",
    "freq_neut = np.sum(X[neg:neut,:],axis=0)\n",
    "freq_pos = np.sum(X[neut:pos,:],axis=0)\n",
    "print(np.sum(freq_neg))\n",
    "print(np.sum(freq_neut))\n",
    "print(np.sum(freq_pos))"
   ]
  },
  {
   "cell_type": "code",
   "execution_count": 13,
   "metadata": {
    "colab": {},
    "colab_type": "code",
    "id": "WjiMn3RwFHUm"
   },
   "outputs": [],
   "source": [
    "#checking if smoothing is required for every class\n",
    "def checkClassVocab(freq_neg, freq_neut, freq_pos):\n",
    "\n",
    "    num=0\n",
    "    for i in range(freq_neg.shape[0]):\n",
    "\n",
    "        if(freq_neg[i]==0):\n",
    "            num+=1\n",
    "\n",
    "    print('No of vocab words with zero freq in negative class =',num)\n",
    "\n",
    "    num=0\n",
    "    for i in range(freq_neut.shape[0]):\n",
    "\n",
    "        if(freq_neut[i]==0):\n",
    "            num+=1\n",
    "\n",
    "    print('No of vocab words with zero freq in neutral class =',num)\n",
    "\n",
    "    num=0\n",
    "    for i in range(freq_pos.shape[0]):\n",
    "\n",
    "        if(freq_pos[i]==0):\n",
    "            num+=1\n",
    "\n",
    "    print('No of vocab words with zero freq in positive class =',num)\n",
    "\n",
    "    return "
   ]
  },
  {
   "cell_type": "code",
   "execution_count": 14,
   "metadata": {
    "colab": {
     "base_uri": "https://localhost:8080/",
     "height": 68
    },
    "colab_type": "code",
    "id": "kUOHWv9zWXXY",
    "outputId": "29cabf34-820e-4c96-82be-4c12e60c8711"
   },
   "outputs": [
    {
     "name": "stdout",
     "output_type": "stream",
     "text": [
      "No of vocab words with zero freq in negative class = 3796\n",
      "No of vocab words with zero freq in neutral class = 8035\n",
      "No of vocab words with zero freq in positive class = 9081\n"
     ]
    }
   ],
   "source": [
    "checkClassVocab(freq_neg, freq_neut, freq_pos)"
   ]
  },
  {
   "cell_type": "code",
   "execution_count": 15,
   "metadata": {
    "colab": {},
    "colab_type": "code",
    "id": "2770FFZWX-4s"
   },
   "outputs": [],
   "source": [
    "def likelihood (inputarray, vocabsize):\n",
    "\n",
    "    #vocabsize\n",
    "    totalwordsinclass = np.sum(inputarray)\n",
    "    \n",
    "    #applying add-1 smoothing\n",
    "    inputarray = np.add(inputarray,1)\n",
    "    inputarray = inputarray/(totalwordsinclass + vocabsize)  \n",
    "\n",
    "    inputarray = np.log10(inputarray)\n",
    "\n",
    "    return inputarray "
   ]
  },
  {
   "cell_type": "code",
   "execution_count": 16,
   "metadata": {
    "colab": {},
    "colab_type": "code",
    "id": "urGRrxApZN4w"
   },
   "outputs": [],
   "source": [
    "neg_likelihood = likelihood(freq_neg, X.shape[1])\n",
    "neut_likelihood = likelihood(freq_neut, X.shape[1])\n",
    "pos_likelihood = likelihood(freq_pos, X.shape[1])"
   ]
  },
  {
   "cell_type": "code",
   "execution_count": 17,
   "metadata": {
    "colab": {},
    "colab_type": "code",
    "id": "f1YVl_uTan2E"
   },
   "outputs": [],
   "source": [
    "def predict (likelihood, prior, vocab,cleanedTestData):\n",
    "\n",
    "    probofAllTweets = np.empty((cleanedTestData.shape[0]))\n",
    "\n",
    "    #converts pandas vocabulory to numpy array\n",
    "    vocab = vocab.to_numpy()\n",
    "\n",
    "    OOV=0\n",
    "  \n",
    "    for tweet_num in range(cleanedTestData.shape[0]):\n",
    "\n",
    "        tweet = cleanedTestData.iloc[tweet_num,1]\n",
    "        probofTweet = 0\n",
    "\n",
    "        #split tweet into words\n",
    "        str_list = tweet.split()\n",
    "        tweet_words = set(str_list)\n",
    "\n",
    "        #put count of every word in each tweet at its column added earlier\n",
    "        for word in tweet_words: \n",
    "\n",
    "            #find that word in vocabulory to add its count\n",
    "            try:\n",
    "                arr_index = np.where(vocab == word)\n",
    "                ind = arr_index[0][0]\n",
    "                #returns count of word in tweet\n",
    "                wordlikelihood = likelihood[ind]\n",
    "                probofTweet = probofTweet+wordlikelihood\n",
    "            except:\n",
    "                OOV+=1\n",
    "        \n",
    "        probofTweet = probofTweet+prior\n",
    "        probofAllTweets[tweet_num] = probofTweet\n",
    "    print('No of out of vocab words =',OOV)  \n",
    "\n",
    "    return probofAllTweets"
   ]
  },
  {
   "cell_type": "code",
   "execution_count": 18,
   "metadata": {
    "colab": {
     "base_uri": "https://localhost:8080/",
     "height": 85
    },
    "colab_type": "code",
    "id": "A04uUVFqoQBQ",
    "outputId": "1a2d4bac-a6ac-4562-8ccc-6b8e8233d03b"
   },
   "outputs": [
    {
     "name": "stdout",
     "output_type": "stream",
     "text": [
      "   Unnamed: 0  0                                                  1\n",
      "0        3781 -1  @united why do you hire POS pilots? Thanks for...\n",
      "1        4401 -1  @VirginAmerica why are your first fares in May...\n",
      "2        3779 -1  @USAirways the disappointment was not the bag ...\n",
      "3        3778 -1  @united - with airport self checkin your only ...\n",
      "4        3777 -1  @united the wifi in the ewr lounge reminds me ...\n",
      "cleaned Data = 2929\n",
      "No of out of vocab words = 1971\n",
      "No of out of vocab words = 1971\n",
      "No of out of vocab words = 1971\n"
     ]
    }
   ],
   "source": [
    "print(testData.head())\n",
    "cleanedTestData = cleanData(testData.iloc[:,1:])\n",
    "\n",
    "prob_tweet_neg = predict(neg_likelihood, priorNeg, Vocab, cleanedTestData)\n",
    "prob_tweet_neut = predict(neut_likelihood, priorNeut, Vocab, cleanedTestData)\n",
    "prob_tweet_pos = predict(pos_likelihood, priorPos, Vocab, cleanedTestData)\n"
   ]
  },
  {
   "cell_type": "code",
   "execution_count": 20,
   "metadata": {
    "colab": {
     "base_uri": "https://localhost:8080/",
     "height": 153
    },
    "colab_type": "code",
    "id": "L7qhzVwTogHU",
    "outputId": "15b8b96e-445f-4b0c-c7c3-3ed3cab4d40a"
   },
   "outputs": [
    {
     "name": "stdout",
     "output_type": "stream",
     "text": [
      "(2929,)\n",
      "[[-27.65607364 -29.7104601  -33.15286269]\n",
      " [-48.37644767 -45.29291947 -45.10110055]\n",
      " [-34.73363065 -40.61778173 -39.76822592]\n",
      " ...\n",
      " [-28.66862503 -31.19232416 -27.7144707 ]\n",
      " [-10.46705984 -12.09478734 -11.34996488]\n",
      " [-17.33749512 -17.28404152 -17.66109691]]\n"
     ]
    }
   ],
   "source": [
    "#concatenating all 3 probability arrays, to find max easily\n",
    "\n",
    "prob_tweet_neg1 = prob_tweet_neg[:,np.newaxis]\n",
    "prob_tweet_neut1 = prob_tweet_neut[:,np.newaxis]\n",
    "prob_tweet_pos1 = prob_tweet_pos[:,np.newaxis]\n",
    "print(prob_tweet_pos.shape)\n",
    "prob_tweet_all_class = np.concatenate((prob_tweet_neg1,prob_tweet_neut1),axis=1)\n",
    "prob_tweet_all_class = np.concatenate((prob_tweet_all_class,prob_tweet_pos1),axis=1)\n",
    "\n",
    "print(prob_tweet_all_class[10:,:])"
   ]
  },
  {
   "cell_type": "code",
   "execution_count": 22,
   "metadata": {
    "colab": {
     "base_uri": "https://localhost:8080/",
     "height": 1000
    },
    "colab_type": "code",
    "id": "FuDTWgeB4PrV",
    "outputId": "39a26228-2bb0-43c9-c1a8-68f61b362415"
   },
   "outputs": [],
   "source": [
    "#***************************************************************RESULTS ON TESTING DATA********************************************************************\n",
    "def result (prob_tweet_all_class, testData):\n",
    "\n",
    "    a = np.argmax(prob_tweet_all_class, axis=1)\n",
    "    print(prob_tweet_all_class.shape)\n",
    "    print(a.shape)\n",
    "\n",
    "    TP0 = 0\n",
    "    TP1 = 0\n",
    "    TP2 = 0\n",
    "    FP0 = 0\n",
    "    FP1 = 0\n",
    "    FP2 = 0\n",
    "    FN0 = 0\n",
    "    FN1 = 0\n",
    "    FN2 = 0\n",
    "    TN0 = 0\n",
    "    TN1 = 0\n",
    "    TN2 = 0\n",
    "\n",
    "    testY = testData.iloc[:,1]\n",
    "    print(testY.head())\n",
    "    testY = testY.to_numpy()\n",
    "\n",
    "    #index 0 represent negative (-1) class, 1 neutral (0) and 2 positive (1)\n",
    "    for x in range (testY.shape[0]):\n",
    "\n",
    "        if(a[x] ==0 ):\n",
    "            if(testY[x]==-1):\n",
    "                TP0=TP0+1\n",
    "\n",
    "        if(a[x] ==0 ):\n",
    "            if(testY[x]!=-1):\n",
    "                FP0=FP0+1\n",
    "\n",
    "        if(a[x] !=0 ):\n",
    "            if(testY[x]==-1):\n",
    "                FN0=FN0+1\n",
    "\n",
    "        if(a[x] !=0 ):\n",
    "            if(testY[x]!=-1):\n",
    "                TN0=TN0+1\n",
    "\n",
    "    for x in range (testY.shape[0]):\n",
    "\n",
    "        if(a[x] ==1 ):\n",
    "            if(testY[x]==0):\n",
    "                TP1=TP1+1\n",
    "\n",
    "        if(a[x] ==1 ):\n",
    "            if(testY[x]!=0):\n",
    "                FP1=FP1+1\n",
    "\n",
    "        if(a[x] !=1 ):\n",
    "            if(testY[x]==0):\n",
    "                FN1=FN1+1\n",
    "\n",
    "        if(a[x] !=1 ):\n",
    "            if(testY[x]!=0):\n",
    "                TN1=TN1+1\n",
    "\n",
    "    for x in range (testY.shape[0]):\n",
    "\n",
    "        if(a[x] ==2):\n",
    "            if(testY[x]==1):\n",
    "                TP2=TP2+1\n",
    "\n",
    "        if(a[x] ==2):\n",
    "            if(testY[x]!=1):\n",
    "                FP2=FP2+1\n",
    "\n",
    "        if(a[x] !=2):\n",
    "            if(testY[x]==1):\n",
    "                FN2=FN2+1\n",
    "\n",
    "        if(a[x] !=2):\n",
    "            if(testY[x]!=1):\n",
    "                TN2=TN2+1\n",
    "\n",
    "    P0 = TP0/(TP0+FP0)\n",
    "    P1 = TP1/(TP1+FP1)\n",
    "    P2 = TP2/(TP2+FP2)\n",
    "    R0 = TP0/(TP0+FN0)\n",
    "    R1 = TP1/(TP1+FN1)\n",
    "    R2 = TP2/(TP2+FN2)\n",
    "\n",
    "    MacroPrec = (P0+P1+P2)/3\n",
    "    MacroRecall = (R0+R1+R2)/3\n",
    "\n",
    "    MicroPrec = (TP0+TP1+TP2)/(TP0+TP1+TP2+FP0+FP1+FP2)\n",
    "    MicroRecall = (TP0+TP1+TP2)/(TP0+TP1+TP2+FN0+FN1+FN2)\n",
    "\n",
    "    MacroF1 = 2*((MacroPrec*MacroRecall)/(MacroPrec+MacroRecall))\n",
    "    MicroF1 = 2*((MicroPrec*MicroRecall)/(MicroPrec+MicroRecall))\n",
    "\n",
    "    print('Precision of class 0 =', P0)\n",
    "    print('Precision of class 1 =', P1)\n",
    "    print('Precision of class 2 =', P2)\n",
    "    print('Recall of class 0 =', R0)\n",
    "    print('Recall of class 1 =', R1)\n",
    "    print('Recall of class 2 =', R2)\n",
    "    print('Macro Precision =',MacroPrec)\n",
    "    print('Micro Precision =',MicroPrec)\n",
    "    print('Macro Recall =',MacroRecall)\n",
    "    print('Micro Recall =',MicroRecall)\n",
    "    print('Macro F1 =', MacroF1)\n",
    "    print('Micro F1 =', MicroF1)\n",
    "\n",
    "    ConfMatrix0 = [[TP0,FP0],\n",
    "                  [FN0,TN0]]\n",
    "\n",
    "    df_CM0 = pd.DataFrame(ConfMatrix0, index = [i for i in \"10\"],\n",
    "                  columns = [i for i in \"10\"])\n",
    "\n",
    "    print('Confusion Matrix of Negative Class:\\n',df_CM0)\n",
    "\n",
    "    plt.figure(figsize = (5,5))\n",
    "    sn.heatmap(df_CM0, annot=True)\n",
    "\n",
    "    ConfMatrix1 = [[TP1,FP1],\n",
    "                  [FN1,TN1]]\n",
    "\n",
    "    df_CM1 = pd.DataFrame(ConfMatrix1, index = [i for i in \"10\"],\n",
    "                  columns = [i for i in \"10\"])\n",
    "\n",
    "    print('Confusion Matrix of Neutral Class:\\n',df_CM1)\n",
    "\n",
    "    plt.figure(figsize = (5,5))\n",
    "    sn.heatmap(df_CM1, annot=True)\n",
    "\n",
    "    ConfMatrix2 = [[TP2,FP2],\n",
    "                  [FN2,TN2]]\n",
    "\n",
    "    df_CM2 = pd.DataFrame(ConfMatrix2, index = [i for i in \"10\"],\n",
    "                  columns = [i for i in \"10\"])\n",
    "\n",
    "    print('Confusion Matrix of Positive Class:\\n',df_CM2)\n",
    "\n",
    "    plt.figure(figsize = (5,5))\n",
    "    sn.heatmap(df_CM2, annot=True)\n",
    "    \n",
    "    return"
   ]
  },
  {
   "cell_type": "code",
   "execution_count": 23,
   "metadata": {
    "colab": {},
    "colab_type": "code",
    "id": "dpFmi37s5b1j"
   },
   "outputs": [
    {
     "name": "stdout",
     "output_type": "stream",
     "text": [
      "(2929, 3)\n",
      "(2929,)\n",
      "0   -1\n",
      "1   -1\n",
      "2   -1\n",
      "3   -1\n",
      "4   -1\n",
      "Name: 0, dtype: int64\n",
      "Precision of class 0 = 0.747150696496412\n",
      "Precision of class 1 = 0.6915254237288135\n",
      "Precision of class 2 = 0.7886792452830189\n",
      "Recall of class 0 = 0.9640522875816994\n",
      "Recall of class 1 = 0.32903225806451614\n",
      "Recall of class 2 = 0.4418604651162791\n",
      "Macro Precision = 0.7424517885027481\n",
      "Micro Precision = 0.7453055650392626\n",
      "Macro Recall = 0.5783150035874982\n",
      "Micro Recall = 0.7453055650392626\n",
      "Macro F1 = 0.6501844402856138\n",
      "Micro F1 = 0.7453055650392626\n",
      "Confusion Matrix of Negative Class:\n",
      "       1    0\n",
      "1  1770  599\n",
      "0    66  494\n",
      "Confusion Matrix of Neutral Class:\n",
      "      1     0\n",
      "1  204    91\n",
      "0  416  2218\n",
      "Confusion Matrix of Positive Class:\n",
      "      1     0\n",
      "1  209    56\n",
      "0  264  2400\n"
     ]
    },
    {
     "data": {
      "image/png": "[encoded data removed]",
      "text/plain": [
       "<Figure size 360x360 with 2 Axes>"
      ]
     },
     "metadata": {
      "needs_background": "light"
     },
     "output_type": "display_data"
    },
    {
     "data": {
      "image/png": "[encoded data removed]",
      "text/plain": [
       "<Figure size 360x360 with 2 Axes>"
      ]
     },
     "metadata": {
      "needs_background": "light"
     },
     "output_type": "display_data"
    },
    {
     "data": {
      "image/png": "[encoded data removed]",
      "text/plain": [
       "<Figure size 360x360 with 2 Axes>"
      ]
     },
     "metadata": {
      "needs_background": "light"
     },
     "output_type": "display_data"
    }
   ],
   "source": [
    "result (prob_tweet_all_class, testData)"
   ]
  },
  {
   "cell_type": "code",
   "execution_count": null,
   "metadata": {},
   "outputs": [],
   "source": []
  }
 ],
 "metadata": {
  "colab": {
   "collapsed_sections": [],
   "name": "assignment4new.ipynb",
   "provenance": []
  },
  "kernelspec": {
   "display_name": "Python 3",
   "language": "python",
   "name": "python3"
  },
  "language_info": {
   "codemirror_mode": {
    "name": "ipython",
    "version": 3
   },
   "file_extension": ".py",
   "mimetype": "text/x-python",
   "name": "python",
   "nbconvert_exporter": "python",
   "pygments_lexer": "ipython3",
   "version": "3.7.6"
  }
 },
 "nbformat": 4,
 "nbformat_minor": 1
}
